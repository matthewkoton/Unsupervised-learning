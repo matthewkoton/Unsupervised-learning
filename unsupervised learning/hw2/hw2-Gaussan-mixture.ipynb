{
  "cells": [
    {
      "cell_type": "markdown",
      "metadata": {
        "id": "cpbuXLAAe62-"
      },
      "source": [
        "![](https://i.imgur.com/qkg2E2D.png)\n",
        "\n",
        "# UnSupervised Learning Methods\n",
        "\n",
        "## Exercise 002 - Part III\n",
        "\n",
        "> Notebook by:\n",
        "> - Royi Avital RoyiAvital@fixelalgorithms.com\n",
        "\n",
        "## Revision History\n",
        "\n",
        "| Version | Date       | User        |Content / Changes                                                   |\n",
        "|---------|------------|-------------|--------------------------------------------------------------------|\n",
        "| 1.0.000 | 19/08/2023 | Royi Avital | First version                                                      |"
      ]
    },
    {
      "cell_type": "markdown",
      "metadata": {
        "id": "i5faHsV0e63A"
      },
      "source": [
        "[![Open In Colab](https://colab.research.google.com/assets/colab-badge.svg)](https://colab.research.google.com/github/FixelAlgorithmsTeam/FixelCourses/blob/master/UnSupervisedLearningMethods/2023_08/Exercise0002Part003.ipynb)"
      ]
    },
    {
      "cell_type": "code",
      "execution_count": null,
      "metadata": {
        "ExecuteTime": {
          "end_time": "2022-02-02T09:30:06.492269Z",
          "start_time": "2022-02-02T09:30:06.220934Z"
        },
        "id": "ZCNyWYd2e63A"
      },
      "outputs": [],
      "source": [
        "# Import Packages\n",
        "\n",
        "# General Tools\n",
        "import numpy as np\n",
        "import scipy as sp\n",
        "\n",
        "# Machine Learning\n",
        "\n",
        "# Computer Vision\n",
        "\n",
        "# Statistics\n",
        "from scipy.stats import multivariate_normal as MVN\n",
        "\n",
        "# Miscellaneous\n",
        "import os\n",
        "import math\n",
        "from platform import python_version\n",
        "import random\n",
        "import time\n",
        "import urllib.request\n",
        "\n",
        "# Typing\n",
        "from typing import Callable, List, Tuple, Union\n",
        "\n",
        "# Visualization\n",
        "import matplotlib.pyplot as plt\n",
        "import seaborn as sns\n",
        "\n",
        "# Jupyter\n",
        "from IPython import get_ipython\n",
        "from IPython.display import Image, display\n",
        "from ipywidgets import Dropdown, FloatSlider, interact, IntSlider, Layout"
      ]
    },
    {
      "cell_type": "markdown",
      "metadata": {
        "id": "mANw21iTe63B"
      },
      "source": [
        "## Notations\n",
        "\n",
        "* <font color='red'>(**?**)</font> Question to answer interactively.\n",
        "* <font color='blue'>(**!**)</font> Simple task to add code for the notebook.\n",
        "* <font color='green'>(**@**)</font> Optional / Extra self practice.\n",
        "* <font color='brown'>(**#**)</font> Note / Useful resource / Food for thought."
      ]
    },
    {
      "cell_type": "code",
      "execution_count": null,
      "metadata": {
        "id": "h2vBVcUse63C"
      },
      "outputs": [],
      "source": [
        "# Configuration\n",
        "# %matplotlib inline\n",
        "\n",
        "seedNum = 512\n",
        "np.random.seed(seedNum)\n",
        "random.seed(seedNum)\n",
        "\n",
        "# sns.set_theme() #>! Apply SeaBorn theme\n",
        "\n",
        "runInGoogleColab = 'google.colab' in str(get_ipython())"
      ]
    },
    {
      "cell_type": "code",
      "execution_count": null,
      "metadata": {
        "id": "hz2H-UgWe63C"
      },
      "outputs": [],
      "source": [
        "# Constants\n",
        "\n",
        "DATA_FILE_URL   = r''\n",
        "DATA_FILE_NAME  = r''\n",
        "\n",
        "TOTAL_RUN_TIME = 10 #<! Don't touch it!\n"
      ]
    },
    {
      "cell_type": "markdown",
      "metadata": {
        "id": "7_jwlH78e63C"
      },
      "source": [
        "## Guidelines\n",
        "\n",
        " - Fill the full names and ID's of the team members in the `Team Members` section.\n",
        " - Answer all questions / tasks within the Jupyter Notebook.\n",
        " - Use MarkDown + MathJaX + Code to answer.\n",
        " - Verify the rendering on VS Code.\n",
        " - Submission in groups (Single submission per group).\n",
        " - You may and _should_ use the forums for questions.\n",
        " - Don't use `pip install` on the submitted notebook!  \n",
        "   If you need a package that is not imported make it clear by a comment.\n",
        " - Good Luck!\n",
        "\n",
        "<font color='red'>Total run time must be **less than `TOTAL_RUN_TIME` seconds**</font>."
      ]
    },
    {
      "cell_type": "code",
      "execution_count": null,
      "metadata": {
        "colab": {
          "base_uri": "https://localhost:8080/"
        },
        "id": "pWhpimSwe63C",
        "outputId": "47d18e8c-d5b4-4c7e-ddd4-b1cecc1d031d"
      },
      "outputs": [
        {
          "output_type": "stream",
          "name": "stdout",
          "text": [
            "The total run time must not exceed: 10 [Sec]\n"
          ]
        }
      ],
      "source": [
        "# Run Time\n",
        "print(f'The total run time must not exceed: {TOTAL_RUN_TIME} [Sec]')\n",
        "startTime = time.time()"
      ]
    },
    {
      "cell_type": "markdown",
      "metadata": {
        "id": "IFmBJJtze63D"
      },
      "source": [
        "## Team Members\n",
        "\n",
        " - `<FULL>_<NAME>_<ID001>`.\n",
        " - `<FULL>_<NAME>_<ID002>`."
      ]
    },
    {
      "cell_type": "markdown",
      "metadata": {
        "id": "B1yqyy1Pe63D"
      },
      "source": [
        "* <font color='brown'>(**#**)</font> The `Import Packages` section above imports most needed tools to apply the work. Please use it.\n",
        "* <font color='brown'>(**#**)</font> You may replace the suggested functions to use with functions from other packages.\n",
        "* <font color='brown'>(**#**)</font> Whatever not said explicitly to implement maybe used by a 3rd party packages."
      ]
    },
    {
      "cell_type": "code",
      "execution_count": null,
      "metadata": {
        "id": "4qA5A8DPe63D"
      },
      "outputs": [],
      "source": [
        "# Students Packages to Import\n",
        "# If you need a package not listed above, use this cell\n",
        "\n"
      ]
    },
    {
      "cell_type": "markdown",
      "metadata": {
        "id": "j-EIGgaDe63D"
      },
      "source": [
        "## Generate / Load Data"
      ]
    },
    {
      "cell_type": "code",
      "execution_count": null,
      "metadata": {
        "id": "umhn1-BOe63D"
      },
      "outputs": [],
      "source": [
        "# Generate / Load Data\n",
        "\n",
        "N1    = 250\n",
        "N2    = 150\n",
        "N3    = 200\n",
        "\n",
        "vMu1  = np.array([0, 0  ])\n",
        "vMu2  = np.array([2, 0.5])\n",
        "vMu3  = np.array([4, 1  ])\n",
        "\n",
        "mSig1 = 0.5 * np.array([[1.00, 1.25],\n",
        "                       [1.25, 2.00]])\n",
        "\n",
        "mSig2 = 0.5 * np.array([[ 1.00, -1.25],\n",
        "                       [-1.25,  2.00]])\n",
        "\n",
        "mSig3 = 0.5 * np.array([[1.00, 1.25],\n",
        "                       [1.25, 2.00]])\n",
        "\n",
        "mX1 = MVN.rvs(mean = vMu1, cov = mSig1, size = N1)\n",
        "mX2 = MVN.rvs(mean = vMu2, cov = mSig2, size = N2)\n",
        "mX3 = MVN.rvs(mean = vMu3, cov = mSig3, size = N3)\n",
        "mX  = np.r_[mX1, mX2, mX3]\n"
      ]
    },
    {
      "cell_type": "code",
      "execution_count": null,
      "metadata": {
        "colab": {
          "base_uri": "https://localhost:8080/",
          "height": 565
        },
        "id": "H0C7NXtMe63D",
        "outputId": "36690a56-f6cd-434d-97a7-906afa19cc0e"
      },
      "outputs": [
        {
          "output_type": "display_data",
          "data": {
            "text/plain": [
              "<Figure size 600x600 with 1 Axes>"
            ],
            "image/png": "[encoded data removed]"
          },
          "metadata": {}
        }
      ],
      "source": [
        "# Plot Data\n",
        "hF, hA = plt.subplots(figsize = (6, 6))\n",
        "\n",
        "hA.scatter(mX[:, 0], mX[:, 1], s = 50, edgecolors = 'k', color = 'b')\n",
        "hA.axis('equal')\n",
        "hA.set_title('Input Data')\n",
        "hA.set_xlabel('${x}_{1}$')\n",
        "hA.set_ylabel('${x}_{2}$')\n",
        "\n",
        "plt.show()"
      ]
    },
    {
      "cell_type": "markdown",
      "metadata": {
        "id": "utxx-jQ2e63D"
      },
      "source": [
        "## 7. Clustering by Gaussian Mixture Model (GMM)\n",
        "\n",
        "### 7.1. GMM Algorithm\n",
        "\n",
        "The GMM algorithm aims to maximize the (log) likelihood objective:\n",
        "$$\\arg\\max_{\\left\\{ \\left(w_{k},\\boldsymbol{\\mu}_{k},\\boldsymbol{\\Sigma}_{k}\\right)\\right\\} _{k=1}^{K}}f=\\arg\\max_{\\left\\{ \\left(w_{k},\\boldsymbol{\\mu}_{k},\\boldsymbol{\\Sigma}_{k}\\right)\\right\\} _{k=1}^{K}}\\sum_{i=1}^{N}\\log\\left(\\sum_{k=1}^{K}w_{k}\\mathcal{N}\\left(\\boldsymbol{x}_{i};\\boldsymbol{\\mu}_{k},\\boldsymbol{\\Sigma}_{k}\\right)\\right)$$\n",
        "\n",
        "In this section you should implement:\n",
        "\n",
        "1. `InitGmm()` - Given a data set and number of clusters it sets the initialization of the `GMM` algorithm:  \n",
        "   - `mμ` - Should be initialized by the [`K-Means++`](https://en.wikipedia.org/wiki/K-means%2B%2B) algorithm.\n",
        "   - `tΣ` - Should be initialized by diagonal matrices with the data variance on the diagonal (A scalar matrix).\n",
        "   - `vW` - Should be initialized with a uniform distribution.  \n",
        "2. `CalcGmmObj()` - Given a data set and set of parameters it calculate the value of the GMM objective function.\n",
        "3. `GMM()` - Given a data set and initialization applies the GMM algorithm.  \n",
        "The stopping criteria should be number of iterations or minimal improvement in the objective function.\n",
        "\n",
        "* <font color='brown'>(**#**)</font> Implementation should be efficient (Memory and operations). Total run time expected to be **less than 60 seconds**.\n",
        "* <font color='brown'>(**#**)</font> You may use the `scipy.stats.multivariate_normal` class.\n",
        "\n"
      ]
    },
    {
      "cell_type": "code",
      "execution_count": null,
      "metadata": {
        "id": "hABo6Zo7e63E"
      },
      "outputs": [],
      "source": [
        "#===========================Fill This===========================#\n",
        "def InitGmm(mX: np.ndarray, K: int, seedNum: int = 123) -> np.ndarray:\n",
        "    '''\n",
        "    GMM algorithm initialization.\n",
        "    Args:\n",
        "        mX          - Input data with shape N x d.\n",
        "        K           - Number of clusters.\n",
        "        seedNum     - Seed number used.\n",
        "    Output:\n",
        "        mμ          - The initial mean vectors with shape K x d.\n",
        "        tΣ          - The initial covariance matrices with shape (d x d x K).\n",
        "        vW          - The initial weights of the GMM with shape K.\n",
        "    Remarks:\n",
        "        - Given the same parameters, including the `seedNum` the algorithm must be reproducible.\n",
        "        - mμ Should be initialized by the K-Means++ algorithm.\n",
        "    '''\n",
        "\n",
        "    mu = [mX[np.random.randint(mX.shape[0])]]\n",
        "\n",
        "    for _ in range(1, K):\n",
        "        distances = sp.spatial.distance.cdist(mX, np.array(mu))\n",
        "        min_dist = np.min(distances, axis=1)\n",
        "        min_dist_sum = np.sum(min_dist)\n",
        "        probabilities = min_dist / min_dist_sum\n",
        "        new_centroid_idx = np.random.choice(mX.shape[0], p=probabilities)\n",
        "        mu.append(mX[new_centroid_idx])\n",
        "\n",
        "    d = mX.shape[1]\n",
        "    t_sigma = np.zeros((d, d, K))\n",
        "    for k in range(K):\n",
        "        variance = np.var(mX, axis=0)\n",
        "        t_sigma[:, :, k] = np.diag(variance)\n",
        "\n",
        "    vW = np.ones(K) / K\n",
        "    return np.array(mu), t_sigma, vW\n",
        "\n",
        "#===============================================================#"
      ]
    },
    {
      "cell_type": "code",
      "execution_count": null,
      "metadata": {
        "id": "9VqFKxKje63E"
      },
      "outputs": [],
      "source": [
        "#===========================Fill This===========================#\n",
        "def CalcGmmObj(mX: np.ndarray, mμ: np.ndarray, tΣ: np.ndarray, vW: np.ndarray) -> float:\n",
        "    '''\n",
        "    GMM algorithm objective function.\n",
        "    Args:\n",
        "        mX          - The data with shape N x d.\n",
        "        mμ          - The initial mean vectors with shape K x d.\n",
        "        tΣ          - The initial covariance matrices with shape (d x d x K).\n",
        "        vW          - The initial weights of the GMM with shape K.\n",
        "    Output:\n",
        "        objVal      - The value of the objective function of the GMM.\n",
        "    Remarks:\n",
        "        - A\n",
        "    '''\n",
        "\n",
        "    N, d = mX.shape\n",
        "    K = mμ.shape[0]\n",
        "\n",
        "    obj_val = 0.0\n",
        "\n",
        "    for i in range(N):\n",
        "      l = 0\n",
        "      for k in range(K):\n",
        "        cov_matrix = tΣ[:, :, k]\n",
        "        mvn = MVN(mean=mμ[k], cov=cov_matrix)\n",
        "        l += vW[k] * mvn.pdf(mX[i])\n",
        "      obj_val+=np.log(l)\n",
        "    return obj_val\n",
        "#===============================================================#"
      ]
    },
    {
      "cell_type": "code",
      "execution_count": null,
      "metadata": {
        "id": "KwczOf1ke63E"
      },
      "outputs": [],
      "source": [
        "#===========================Fill This===========================#\n",
        "def GMM(mX: np.ndarray, mμ: np.ndarray, tΣ: np.ndarray, vW: np.ndarray, numIter: int = 1000, stopThr: float = 1e-5) -> np.ndarray:\n",
        "    '''\n",
        "    GMM algorithm.\n",
        "    Args:\n",
        "        mX          - Input data with shape N x d.\n",
        "        mμ          - The initial mean vectors with shape K x d.\n",
        "        tΣ          - The initial covariance matrices with shape (d x d x K).\n",
        "        vW          - The initial weights of the GMM with shape K.\n",
        "        numIter     - Number of iterations.\n",
        "        stopThr     - Stopping threshold.\n",
        "    Output:\n",
        "        mμ          - The final mean vectors with shape K x d.\n",
        "        tΣ          - The final covariance matrices with shape (d x d x K).\n",
        "        vW          - The final weights of the GMM with shape K.\n",
        "        vL          - The labels (0, 1, .., K - 1) per sample with shape (N, )\n",
        "        lO          - The objective function value per iterations (List).\n",
        "    Remarks:\n",
        "        - The maximum number of iterations must be `numIter`.\n",
        "        - If the objective value of the algorithm doesn't improve by at least `stopThr` the iterations should stop.\n",
        "    '''\n",
        "\n",
        "    N, d = mX.shape\n",
        "    K = mμ.shape[0]\n",
        "\n",
        "    lO = []\n",
        "\n",
        "    for iter in range(numIter):\n",
        "      r = np.zeros((N, K))\n",
        "      for k in range(K):\n",
        "        cov_matrix = tΣ[:,:,k]\n",
        "        mvn = MVN(mean=mμ[k], cov=cov_matrix)\n",
        "        r[:,k] = vW[k]*mvn.pdf(mX)\n",
        "\n",
        "      r = r/ np.sum(r, axis=1, keepdims=True)\n",
        "\n",
        "      nK = np.sum(r,axis=0)\n",
        "      vW = nK/N\n",
        "\n",
        "      for j in range(K):\n",
        "        mμ[j] = np.sum(r[:, j:j+1] * mX, axis=0) / nK[j]\n",
        "        diff = mX - mμ[j]\n",
        "        tΣ[:, :, j] = (np.dot((diff * r[:, j:j+1]).T, diff) / nK[j])\n",
        "\n",
        "      obj_val=CalcGmmObj(mX, mμ, tΣ, vW)\n",
        "\n",
        "\n",
        "\n",
        "      lO.append(obj_val)\n",
        "\n",
        "\n",
        "      if iter > 0 and abs(lO[iter] - lO[iter - 1]) < stopThr:\n",
        "          break\n",
        "\n",
        "    vL = np.argmax(r, axis=1)\n",
        "\n",
        "    return mμ, tΣ, vW, vL, lO\n",
        "\n",
        "\n",
        "\n",
        "#===============================================================#"
      ]
    },
    {
      "cell_type": "markdown",
      "metadata": {
        "id": "j5McShise63E"
      },
      "source": [
        "### 7.2. Clustering the Data Set\n",
        "\n",
        "In this section we'll compare the output of the GMM to the K-Means on the data set.\n",
        "The tasks are:\n",
        "\n",
        "1. Create a file called `CourseAuxFun.py`.  \n",
        "   Copy the functions of the functions related to the GMM and K-Means into it.\n",
        "2. Import the functions using `from CourseAuxFun.py import *`.\n",
        "3. Using **the same** initialization (`mC` and `mμ`), compare the results of the the K-Means and GMM algorithm.\n",
        "4. Plot the objective function of the GMM as a function of the iteration.\n",
        "5. Write a short answer why the results are different."
      ]
    },
    {
      "cell_type": "code",
      "execution_count": null,
      "metadata": {
        "colab": {
          "base_uri": "https://localhost:8080/",
          "height": 383
        },
        "id": "WKbl09-ze63E",
        "outputId": "18624c09-8be8-4a6b-c7b2-1962b0a3f2d7"
      },
      "outputs": [
        {
          "output_type": "error",
          "ename": "ModuleNotFoundError",
          "evalue": "ignored",
          "traceback": [
            "\u001b[0;31m---------------------------------------------------------------------------\u001b[0m",
            "\u001b[0;31mModuleNotFoundError\u001b[0m                       Traceback (most recent call last)",
            "\u001b[0;32m<ipython-input-11-1383e37e8035>\u001b[0m in \u001b[0;36m<cell line: 5>\u001b[0;34m()\u001b[0m\n\u001b[1;32m      3\u001b[0m \u001b[0;31m# 2. Apply the GMM algorithm.\u001b[0m\u001b[0;34m\u001b[0m\u001b[0;34m\u001b[0m\u001b[0m\n\u001b[1;32m      4\u001b[0m \u001b[0;34m\u001b[0m\u001b[0m\n\u001b[0;32m----> 5\u001b[0;31m \u001b[0;32mfrom\u001b[0m \u001b[0mCourseAuxFun\u001b[0m \u001b[0;32mimport\u001b[0m \u001b[0;34m*\u001b[0m\u001b[0;34m\u001b[0m\u001b[0;34m\u001b[0m\u001b[0m\n\u001b[0m\u001b[1;32m      6\u001b[0m \u001b[0mK\u001b[0m \u001b[0;34m=\u001b[0m \u001b[0;36m3\u001b[0m\u001b[0;34m\u001b[0m\u001b[0;34m\u001b[0m\u001b[0m\n\u001b[1;32m      7\u001b[0m \u001b[0mnumIter\u001b[0m \u001b[0;34m=\u001b[0m \u001b[0;36m100\u001b[0m\u001b[0;34m\u001b[0m\u001b[0;34m\u001b[0m\u001b[0m\n",
            "\u001b[0;31mModuleNotFoundError\u001b[0m: No module named 'CourseAuxFun'",
            "",
            "\u001b[0;31m---------------------------------------------------------------------------\u001b[0;32m\nNOTE: If your import is failing due to a missing package, you can\nmanually install dependencies using either !pip or !apt.\n\nTo view examples of installing some common dependencies, click the\n\"Open Examples\" button below.\n\u001b[0;31m---------------------------------------------------------------------------\u001b[0m\n"
          ],
          "errorDetails": {
            "actions": [
              {
                "action": "open_url",
                "actionText": "Open Examples",
                "url": "/notebooks/snippets/importing_libraries.ipynb"
              }
            ]
          }
        }
      ],
      "source": [
        "#===========================Fill This===========================#\n",
        "# 1. Set the clustering parameters.\n",
        "# 2. Apply the GMM algorithm.\n",
        "\n",
        "from CourseAuxFun import *\n",
        "K = 3\n",
        "numIter = 100\n",
        "stopThr = 0.001\n",
        "\n",
        "\n",
        "mC_kmeans = InitKMeans(mX, K, seedNum=seedNum)\n",
        "mC_final_kmeans, vL_kmeans, lO_kmeans = KMeans(mX, mC_kmeans, numIter=numIter, stopThr=stopThr)\n",
        "\n",
        "mμ_gmm, tΣ_gmm, vW_gmm = InitGmm(mX, K, seedNum=seedNum)\n",
        "mμ_final_gmm, tΣ_final_gmm, vW_final_gmm, vL_gmm, lO_gmm = GMM(mX, mμ_gmm, tΣ_gmm, vW_gmm, numIter=numIter, stopThr=stopThr)\n",
        "\n",
        "plt.figure(figsize=(8, 5))\n",
        "plt.plot(range(len(lO_gmm)), lO_gmm, marker='o', linestyle='-', color='b')\n",
        "plt.xlabel('Iteration')\n",
        "plt.ylabel('Objective Function (Log Likelihood)')\n",
        "plt.title('GMM Objective Function vs. Iteration')\n",
        "plt.show()\n",
        "#===============================================================#\n"
      ]
    },
    {
      "cell_type": "code",
      "execution_count": null,
      "metadata": {
        "id": "LyHlTGbge63E"
      },
      "outputs": [],
      "source": [
        "#===========================Fill This===========================#\n",
        "# 1. Plot the clustered data.\n",
        "# 2. Plot the objective function as a function of the iterations.\n",
        "# !! You may plot in a single figure (Sub Plots).\n",
        "\n",
        "fig, axs = plt.subplots(2, 2, figsize=(12, 8))\n",
        "\n",
        "\n",
        "axs[0, 0].scatter(mX[:, 0], mX[:, 1], c=vL_kmeans, cmap='viridis')\n",
        "axs[0, 0].scatter(mC_final_kmeans[:, 0], mC_final_kmeans[:, 1], c='red', marker='x', s=100, label='K-Means Centroids')\n",
        "axs[0, 0].set_title('K-Means Clustering')\n",
        "axs[0, 0].legend()\n",
        "\n",
        "\n",
        "axs[0, 1].scatter(mX[:, 0], mX[:, 1], c=vL_gmm, cmap='viridis')\n",
        "axs[0, 1].scatter(mμ_final_gmm[:, 0], mμ_final_gmm[:, 1], c='red', marker='x', s=100, label='GMM Mean Vectors')\n",
        "axs[0, 1].set_title('GMM Clustering')\n",
        "axs[0, 1].legend()\n",
        "\n",
        "\n",
        "\n",
        "axs[1, 0].plot(range(len(lO_kmeans)), lO_kmeans, marker='o', linestyle='-', color='b')\n",
        "axs[1, 0].set_xlabel('Iteration')\n",
        "axs[1, 0].set_ylabel('Objective Function (K-Means)')\n",
        "axs[1, 0].set_title('K-Means Objective Function vs. Iteration')\n",
        "\n",
        "\n",
        "axs[1, 1].plot(range(len(lO_gmm)), lO_gmm, marker='o', linestyle='-', color='b')\n",
        "axs[1, 1].set_xlabel('Iteration')\n",
        "axs[1, 1].set_ylabel('Objective Function (GMM)')\n",
        "axs[1, 1].set_title('GMM Objective Function vs. Iteration')\n",
        "\n",
        "plt.tight_layout()\n",
        "plt.show\n",
        "#===============================================================#"
      ]
    },
    {
      "cell_type": "markdown",
      "metadata": {
        "id": "KJpHtbtKe63E"
      },
      "source": [
        "### 7.3. The Covariance Matrix of the GMM Model\n",
        "\n",
        "The `GaussianMixture` class of SciKit Learn has the option `covariance_type` with the options: `full`, `tied`, `diag`, `spherical`.  \n",
        "In class the model assumed full degree of freedom, namely `full`.  \n",
        "Explain in what cases should one use `tied` / `diag` / `spherical`.  \n",
        "Address both properties of the data and the parameters of the model."
      ]
    },
    {
      "cell_type": "markdown",
      "metadata": {
        "id": "5UtQO_Jbe63F"
      },
      "source": [
        "### 7.3. Solution\n",
        "\n",
        "1. In cases the prior data is given.\n",
        "2. In cases we want to imitate `K-Means`, hence using `spherical`.\n",
        "3. In case the number of samples is much smaller than the number of parameters.\n",
        "\n",
        "---"
      ]
    },
    {
      "cell_type": "markdown",
      "metadata": {
        "id": "krUW_kIxe63F"
      },
      "source": [
        "### 7.4. GMM vs. K-Means\n",
        "\n",
        "K-Means is known to be a private case of GMM.  \n",
        "The following questions try to understand the connection between the 2.\n",
        "\n",
        " 1. How does the parameters of the GMM algorithm should be set to have the K-Means?  \n",
        " 2. How should the data be altered (_Pre Processed_) in order to K-Means perform on it like the GMM?  \n",
        "    Assume you know exactly how it was generated (Distribution parameters and ground truth labels included).\n",
        "\n",
        "You may use coding to verify and show the results.\n",
        "\n",
        "* <font color='brown'>(**#**)</font> Conceptually, assume you have the same data going into a K-Means and GMM Machines.  \n",
        "  The first questions asks how should one configure the GMM Machine to get as close as possible results to K-Means.  \n",
        "  The second question how should the data be pre processed before entering the K-Means machine to have as similar results as possible to the GMM machine.\n"
      ]
    },
    {
      "cell_type": "markdown",
      "metadata": {
        "id": "tloROUWXe63F"
      },
      "source": [
        "### 7.4. Solution\n",
        "\n",
        "<font color='red'>??? Fill the answer here ???</font>\n",
        "\n",
        "---"
      ]
    },
    {
      "cell_type": "code",
      "execution_count": null,
      "metadata": {
        "id": "zdP2ov_pe63F"
      },
      "outputs": [],
      "source": [
        "# Run Time\n",
        "# Check Total Run Time.\n",
        "# Don't change this!\n",
        "\n",
        "endTime = time.time()\n",
        "\n",
        "totalRunTime = endTime - startTime\n",
        "print(f'Total Run Time: {totalRunTime} [Sec].')\n",
        "\n",
        "if (totalRunTime > TOTAL_RUN_TIME):\n",
        "    raise ValueError(f'You have exceeded the allowed run time as {totalRunTime} > {TOTAL_RUN_TIME}')"
      ]
    }
  ],
  "metadata": {
    "colab": {
      "provenance": []
    },
    "kernelspec": {
      "display_name": "Python 3 (ipykernel)",
      "language": "python",
      "name": "python3"
    },
    "language_info": {
      "codemirror_mode": {
        "name": "ipython",
        "version": 3
      },
      "file_extension": ".py",
      "mimetype": "text/x-python",
      "name": "python",
      "nbconvert_exporter": "python",
      "pygments_lexer": "ipython3",
      "version": "3.10.9"
    },
    "toc": {
      "base_numbering": 1,
      "nav_menu": {},
      "number_sections": false,
      "sideBar": true,
      "skip_h1_title": false,
      "title_cell": "Table of Contents",
      "title_sidebar": "Contents",
      "toc_cell": false,
      "toc_position": {},
      "toc_section_display": true,
      "toc_window_display": true
    },
    "varInspector": {
      "cols": {
        "lenName": 16,
        "lenType": 16,
        "lenVar": 40
      },
      "kernels_config": {
        "python": {
          "delete_cmd_postfix": "",
          "delete_cmd_prefix": "del ",
          "library": "var_list.py",
          "varRefreshCmd": "print(var_dic_list())"
        },
        "r": {
          "delete_cmd_postfix": ") ",
          "delete_cmd_prefix": "rm(",
          "library": "var_list.r",
          "varRefreshCmd": "cat(var_dic_list()) "
        }
      },
      "types_to_exclude": [
        "module",
        "function",
        "builtin_function_or_method",
        "instance",
        "_Feature"
      ],
      "window_display": false
    },
    "vscode": {
      "interpreter": {
        "hash": "39577bab1f263e62e0b74f5b8086bd735049bf4751f6562b2d4b2969dc308293"
      }
    }
  },
  "nbformat": 4,
  "nbformat_minor": 0
}